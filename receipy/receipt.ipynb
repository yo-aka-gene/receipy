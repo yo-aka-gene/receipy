{
 "cells": [
  {
   "cell_type": "markdown",
   "metadata": {},
   "source": [
    "## 領収書発行\n",
    "---\n",
    "※依存環境などについては[岡野](yujiokano@keio.jp)までお問い合わせください\n",
    "\n",
    "### 使い方：\n",
    "1. 宛名・連絡先・金額がまとめられたデータを読み込んでください\n",
    "2. データから、宛名・通し番号・金額の変数「name」・「num」・「price」を再起的に読み取るコードを書いてください\n",
    "3. gmailのセキュリティーの設定を変更する必要があります。[これ](https://news.mynavi.jp/article/zeropython-51/)とか参照してください\n",
    "4. リハーサルとして自分のメアドにテストとして同じフォーマットのメールを送ることができるコードを書いてあります\n",
    "---\n",
    "### 以下、confの詳細\n",
    "- data: データのファイルパス\n",
    "- body: 本文の原稿\n",
    "- adress: 送信元のgmail（自分のメアド）\n",
    "- pwd: gmailアカウントのパスワード\n",
    "- title: メールのタイトル\n",
    "- rehersal:　リハーサルの有無（Default: False）\n",
    "\n",
    "### ※ScriptConfigの使い方\n",
    "#### <変数名> = ScriptConfig(<条件文>)\n",
    "のように書くことで、defaultの設定からカスタムしたコンフィギュアを作成できます"
   ]
  },
  {
   "cell_type": "markdown",
   "metadata": {},
   "source": [
    "---\n",
    "## フォーマット例）\n",
    "\n",
    "<div style=\"text-align: center;\">\n",
    "<strong><font size=6>領収書\n",
    "</div>\n",
    "\n",
    "<div style=\"text-align: right;\">\n",
    "<br><font size=4>No. 1\n",
    "<br><font size=4>発行日　2021/07/07\n",
    "</div>\n",
    "\n",
    "<div style=\"text-align: left;\">\n",
    "<u><font size=4>田中太郎　様\n",
    "</div>\n",
    "\n",
    "<br>\n",
    "    \n",
    "<div style=\"text-align: center;\">\n",
    "<strong><u><font size=5>金額　¥30,000 （税込）\n",
    "</div>\n",
    "<div style=\"text-align: center;\">\n",
    "<font size=4>但、2021年度活動資金として上記正に領収いたしました\n",
    "</div>\n",
    "    \n",
    "<div style=\"text-align: right;\">\n",
    "<br><font size=4>三四会排球部\n",
    "<br><font size=3>〒160-8582\n",
    "<br><font size=3>東京都新宿区信濃町35\n",
    "</div>"
   ]
  },
  {
   "cell_type": "code",
   "execution_count": 1,
   "metadata": {},
   "outputs": [],
   "source": [
    "import os\n",
    "from datetime import datetime\n",
    "from typing import NamedTuple, List, Dict, Tuple\n",
    "\n",
    "import pandas as pd\n",
    "import smtplib\n",
    "import ssl\n",
    "\n",
    "from email.mime.text import MIMEText"
   ]
  },
  {
   "cell_type": "code",
   "execution_count": 2,
   "metadata": {},
   "outputs": [],
   "source": [
    "# Set Config\n",
    "class ScriptConfig(NamedTuple):\n",
    "    data: str = \"./data.csv\"\n",
    "    body: str = \"./receipt.txt\"\n",
    "    adress: str = \"64th.toitai.kyogi.volleyball@gmail.com\"\n",
    "    pwd: str = \"moltenthanmikasa\"\n",
    "    title: str = \"ご寄付について\"\n",
    "    rehersal: bool = False\n",
    "\n",
    "conf = ScriptConfig(rehersal = True)"
   ]
  },
  {
   "cell_type": "code",
   "execution_count": 3,
   "metadata": {},
   "outputs": [],
   "source": [
    "# 連絡先データの読み込み\n",
    "# data = pd.read_csv(CONFIG[\"data\"], index_col=0)"
   ]
  },
  {
   "cell_type": "code",
   "execution_count": 4,
   "metadata": {},
   "outputs": [],
   "source": [
    "name = \"田中太郎\"\n",
    "num = 1\n",
    "price = 30000"
   ]
  },
  {
   "cell_type": "code",
   "execution_count": 5,
   "metadata": {},
   "outputs": [],
   "source": [
    "receipt = fr\"\"\"\n",
    "<div style=\"text-align: center;\">\n",
    "<strong><font size=6>領収書\n",
    "</div>\n",
    "\n",
    "<div style=\"text-align: right;\">\n",
    "<br><font size=4>No. {num}\n",
    "<br><font size=4>発行日　{datetime.now().strftime(\"%Y/%m/%d\")}\n",
    "</div>\n",
    "\n",
    "<div style=\"text-align: left;\">\n",
    "<u><font size=4>{name}　様\n",
    "</div>\n",
    "\n",
    "<br>\n",
    "    \n",
    "<div style=\"text-align: center;\">\n",
    "<strong><u><font size=5>金額　¥{'{:,}'.format(price)} （税込）\n",
    "</div>\n",
    "<div style=\"text-align: center;\">\n",
    "<font size=4>但、2021年度活動資金として上記正に領収いたしました\n",
    "</div>\n",
    "    \n",
    "<div style=\"text-align: right;\">\n",
    "<br><font size=4>三四会排球部\n",
    "<br><font size=3>〒160-8582\n",
    "<br><font size=3>東京都新宿区信濃町35\n",
    "</div>\n",
    "\"\"\""
   ]
  },
  {
   "cell_type": "code",
   "execution_count": 6,
   "metadata": {},
   "outputs": [
    {
     "name": "stdout",
     "output_type": "stream",
     "text": [
      "田中太郎 様<br><br>拝啓<br><br>　時下ますますご清祥のこととお慶び申し上げます。<br><br>　三四会排球部の活動につきましては、平素より格別のご理解を賜りまして、心から感謝申し上げます。<br><br>　このたび、2021年度活動資金を賜りました。ご厚情誠に有り難く厚く御礼申し上げます。賜りましたご芳志は練習場所となる体育館の借用などに大切に活用させていただきます。<br><br>　医療現場の最前線でご活躍なさっている先生方にお時間をいただくのは大変ご迷惑かと考えまして、略儀ながら書面を持って御礼申し上げますことをお許し下さい。<br><br>　感染終息状況を見ながら改めてご挨拶に伺わせて頂く所存ですので、何卒、変わらぬご支援を賜りますようお願い申し上げます。<br>　<br>　末筆ながら、先生方のますますのご健勝とご発展を祈念いたします。<br><br>敬具<br><br><div style=\"text-align: right;\"><br>三四会排球部一同<br></div><br><br>\n",
      "<div style=\"text-align: center;\">\n",
      "<strong><font size=6>領収書\n",
      "</div>\n",
      "\n",
      "<div style=\"text-align: right;\">\n",
      "<br><font size=4>No. 1\n",
      "<br><font size=4>発行日　2021/07/07\n",
      "</div>\n",
      "\n",
      "<div style=\"text-align: left;\">\n",
      "<u><font size=4>田中太郎　様\n",
      "</div>\n",
      "\n",
      "<br>\n",
      "    \n",
      "<div style=\"text-align: center;\">\n",
      "<strong><u><font size=5>金額　¥30,000 （税込）\n",
      "</div>\n",
      "<div style=\"text-align: center;\">\n",
      "<font size=4>但、2021年度活動資金として上記正に領収いたしました\n",
      "</div>\n",
      "    \n",
      "<div style=\"text-align: right;\">\n",
      "<br><font size=4>三四会排球部\n",
      "<br><font size=3>〒160-8582\n",
      "<br><font size=3>東京都新宿区信濃町35\n",
      "</div>\n",
      "\n"
     ]
    }
   ],
   "source": [
    "# 確認用メールを作成\n",
    "mail_to = conf.adress\n",
    "title = conf.title\n",
    "body = fr\"{name} 様<br><br>{'<br>'.join(open(conf.body).read().splitlines())}<br><br>{receipt}\"\n",
    "print(body)"
   ]
  },
  {
   "cell_type": "code",
   "execution_count": 7,
   "metadata": {},
   "outputs": [
    {
     "name": "stdout",
     "output_type": "stream",
     "text": [
      "確認用メールをご自身のメアドに送信しました。次のcellを実行すると同じ内容を自動送信いたします。\n"
     ]
    }
   ],
   "source": [
    "#確認用メールを自分に送信\n",
    "\n",
    "if conf.rehersal:\n",
    "    message = MIMEText(body, \"html\")\n",
    "    message[\"Subject\"] = title\n",
    "    message[\"To\"] = mail_to\n",
    "    message[\"From\"] = conf.adress\n",
    "    server = smtplib.SMTP_SSL(\"smtp.gmail.com\", 465, context=ssl.create_default_context())\n",
    "    server.login(conf.adress, conf.pwd)\n",
    "    server.send_message(message)\n",
    "    print(\"確認用メールをご自身のメアドに送信しました。次のcellを実行すると同じ内容を自動送信いたします。\")"
   ]
  },
  {
   "cell_type": "code",
   "execution_count": 6,
   "metadata": {},
   "outputs": [],
   "source": [
    "for i in range(3):\n",
    "    mail_to = CONFIG[\"adress\"]\n",
    "    name = data.iloc[i, 4]\n",
    "    body = f\"{name} 様<br><br>{'<br>'.join(open(CONFIG['body']).read().splitlines())}{supplement}<br>\"\n",
    "    message = MIMEText(body, \"html\")\n",
    "    message[\"Subject\"] = title\n",
    "    message[\"To\"] = mail_to\n",
    "    message[\"From\"] = CONFIG[\"adress\"]\n",
    "    server = smtplib.SMTP_SSL(\"smtp.gmail.com\", 465, context=ssl.create_default_context())\n",
    "    server.login(CONFIG[\"adress\"], CONFIG[\"password\"])\n",
    "    server.send_message(message) "
   ]
  },
  {
   "cell_type": "code",
   "execution_count": null,
   "metadata": {},
   "outputs": [],
   "source": []
  }
 ],
 "metadata": {
  "kernelspec": {
   "display_name": "Python 3",
   "language": "python",
   "name": "python3"
  },
  "language_info": {
   "codemirror_mode": {
    "name": "ipython",
    "version": 3
   },
   "file_extension": ".py",
   "mimetype": "text/x-python",
   "name": "python",
   "nbconvert_exporter": "python",
   "pygments_lexer": "ipython3",
   "version": "3.8.8"
  }
 },
 "nbformat": 4,
 "nbformat_minor": 4
}
